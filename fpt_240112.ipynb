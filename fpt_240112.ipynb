{
 "cells": [
  {
   "cell_type": "markdown",
   "metadata": {},
   "source": [
    "# 读取fpt 生成fpt字典 生成all.txt"
   ]
  },
  {
   "cell_type": "code",
   "execution_count": 1,
   "metadata": {},
   "outputs": [],
   "source": [
    "import struct, os, json\n",
    "msgDir = '/home/chasedream1129/Project/chasedream1129/dq7crt_CHS_dev/ROM/ACG/0004000000065E00/MESS/'\n",
    "STD_unkR = b'TEMP/STEP2\\x00\\x00\\x00\\x00\\x00\\x00\\x00\\x00\\x00\\x00\\x00\\x00\\x00\\x00\\x00\\x00\\x00\\x00\\x00\\x00\\x00\\x00\\x00\\x00\\x00\\x00\\x00\\x00\\x00\\x00\\x00\\x00\\x00\\x00\\x00\\x00\\x00\\x00\\x00\\x00\\x00\\x00\\x00\\x00\\x00\\x00\\x00\\x00\\x00\\x00\\xa3\\x9e\\x92\\n'\n",
    "#index区后40字节区域 所有fpt一致"
   ]
  },
  {
   "cell_type": "code",
   "execution_count": 5,
   "metadata": {},
   "outputs": [],
   "source": [
    "myAll = ''\n",
    "myFptD = {}\n",
    "for fptName in sorted(os.listdir(msgDir)):\n",
    "    if fptName not in myFptD.keys():\n",
    "        myFptD[fptName]={}\n",
    "    with open(os.path.join(msgDir, fptName), 'rb')as f:\n",
    "        fpt = f.read()\n",
    "        magic, count, version = struct.unpack_from('4s4xII', fpt)\n",
    "        p = 0x10\n",
    "        dataR_start = p+0x20*count+0x40\n",
    "        unkR = fpt[p+0x20*count:dataR_start]\n",
    "        for i in range(count):\n",
    "            txtName, hash, ofs, lenth = struct.unpack_from('16s4sII', fpt, p+0x20*i)\n",
    "            txtName = txtName.split(b'\\x00')[0].decode('ascii')\n",
    "            msg = fpt[dataR_start+ofs:dataR_start+ofs+lenth].decode('utf-8')\n",
    "            myFptD[fptName][txtName]=msg\n",
    "            #if msg[-1]!='\\n':\n",
    "            #print(f'======{name}_BEGIN======\\n{msg}\\n∅============================')\n",
    "            myAll += f'======{txtName}_BEGIN======\\r\\n{msg}\\r\\n∅============================\\r\\n'\n",
    "        #print(fptName, count, version)"
   ]
  },
  {
   "cell_type": "code",
   "execution_count": 53,
   "metadata": {},
   "outputs": [],
   "source": [
    "with open(\"./myAll.txt\", 'w')as f:\n",
    "    f.write(myAll)"
   ]
  },
  {
   "cell_type": "markdown",
   "metadata": {},
   "source": [
    "# 从all.txt读取文本 生成fpt字典"
   ]
  },
  {
   "cell_type": "code",
   "execution_count": 54,
   "metadata": {},
   "outputs": [],
   "source": [
    "with open('./fpt_list.json', 'r')as f:\n",
    "    fpt_list = json.loads(f.read())\n",
    "with open(\"./myAll.txt\", 'r', newline='\\r\\n')as f:\n",
    "    myAll = f.read()"
   ]
  },
  {
   "cell_type": "code",
   "execution_count": 3,
   "metadata": {},
   "outputs": [],
   "source": [
    "import re\n",
    "def txt2dict(text):\n",
    "    #regex = r'={6}(?P<id>#\\d+.txt)_BEGIN={6}\\n(?P<translated>[^∅]+)\\n∅'\n",
    "    regex = r'={6}(?P<id>#\\d+.txt)_BEGIN={6}\\r\\n(?P<translated>[^∅]+)\\r\\n∅'\n",
    "    d = {}\n",
    "    for match in re.finditer(regex, text, 0):\n",
    "        #id = int(match.group('id'))\n",
    "        #id = f'#{str(id).zfill(6)}.txt'\n",
    "        id = match.group('id')\n",
    "        translated = match.group('translated')\n",
    "        if id in d.keys():\n",
    "            #print(int(match.group('id'))//10000*10000)\n",
    "            d['#'+id]=d[id]\n",
    "            d[id]=translated\n",
    "        else:\n",
    "            d[id]=translated\n",
    "    return d"
   ]
  },
  {
   "cell_type": "code",
   "execution_count": 56,
   "metadata": {},
   "outputs": [],
   "source": [
    "allD = txt2dict(myAll)\n",
    "fptD = {}\n",
    "for fptName, txt_list in fpt_list.items():\n",
    "    for txtName in txt_list:\n",
    "        if fptName not in fptD.keys():\n",
    "            fptD[fptName]={}\n",
    "        if fptName in ('#100000.fpt', '#140000.fpt', '#190000.fpt', '#210000.fpt', '#420000.fpt', '#510000.fpt', '#520000.fpt', '#540000.fpt', '#550000.fpt', '#560000.fpt', '#610000.fpt', '#800000.fpt'):\n",
    "            try:\n",
    "                msg = allD['#'+txtName]\n",
    "                #print(fptName)\n",
    "            except KeyError:\n",
    "                msg = allD[txtName]\n",
    "        else:\n",
    "            msg = allD[txtName]\n",
    "        fptD[fptName][txtName]=msg"
   ]
  },
  {
   "cell_type": "code",
   "execution_count": 57,
   "metadata": {},
   "outputs": [
    {
     "data": {
      "text/plain": [
       "True"
      ]
     },
     "execution_count": 57,
     "metadata": {},
     "output_type": "execute_result"
    }
   ],
   "source": [
    "myFptD == fptD"
   ]
  },
  {
   "cell_type": "markdown",
   "metadata": {},
   "source": [
    "# 对比一下hash！"
   ]
  },
  {
   "cell_type": "code",
   "execution_count": 58,
   "metadata": {},
   "outputs": [],
   "source": [
    "acg_msgDir = '/home/chasedream1129/Project/chasedream1129/dq7crt_CHS_dev/ROM/ACG/0004000000065E00/MESS/'\n",
    "jpn_msgDir = '/home/chasedream1129/Project/chasedream1129/dq7crt_CHS_dev/ROM/JPN/0004000000065E00/MESS/'"
   ]
  },
  {
   "cell_type": "code",
   "execution_count": 59,
   "metadata": {},
   "outputs": [],
   "source": [
    "acg_FptD = {}\n",
    "for fptName in sorted(os.listdir(msgDir)):\n",
    "    if fptName not in acg_FptD.keys():\n",
    "        acg_FptD[fptName]={}\n",
    "    with open(os.path.join(acg_msgDir, fptName), 'rb')as f:\n",
    "        fpt = f.read()\n",
    "        magic, count, version = struct.unpack_from('4s4xII', fpt)\n",
    "        p = 0x10\n",
    "        dataR_start = p+0x20*count+0x40\n",
    "        unkR = fpt[p+0x20*count:dataR_start]\n",
    "        for i in range(count):\n",
    "            txtName, hash, ofs, lenth = struct.unpack_from('16s4sII', fpt, p+0x20*i)\n",
    "            txtName = txtName.split(b'\\x00')[0].decode('ascii')\n",
    "            #msg = fpt[dataR_start+ofs:dataR_start+ofs+lenth].decode('utf-8')\n",
    "            acg_FptD[fptName][txtName]=hash.hex()"
   ]
  },
  {
   "cell_type": "code",
   "execution_count": 60,
   "metadata": {},
   "outputs": [],
   "source": [
    "jpn_FptD = {}\n",
    "for fptName in sorted(os.listdir(jpn_msgDir)):\n",
    "    if fptName not in jpn_FptD.keys():\n",
    "        jpn_FptD[fptName]={}\n",
    "    with open(os.path.join(jpn_msgDir, fptName), 'rb')as f:\n",
    "        fpt = f.read()\n",
    "        magic, count, version = struct.unpack_from('4s4xII', fpt)\n",
    "        p = 0x10\n",
    "        dataR_start = p+0x20*count+0x40\n",
    "        unkR = fpt[p+0x20*count:dataR_start]\n",
    "        for i in range(count):\n",
    "            txtName, hash, ofs, lenth = struct.unpack_from('16s4sII', fpt, p+0x20*i)\n",
    "            txtName = txtName.split(b'\\x00')[0].decode('ascii')\n",
    "            #msg = fpt[dataR_start+ofs:dataR_start+ofs+lenth].decode('utf-8')\n",
    "            jpn_FptD[fptName][txtName]=hash.hex()"
   ]
  },
  {
   "cell_type": "code",
   "execution_count": 61,
   "metadata": {},
   "outputs": [],
   "source": [
    "for fptName, fpt_data in acg_FptD.items():\n",
    "    for txtName, txt_hash in fpt_data.items():\n",
    "        if txt_hash != jpn_FptD[fptName][txtName]:\n",
    "            print(fptName, txtName)"
   ]
  },
  {
   "cell_type": "code",
   "execution_count": 62,
   "metadata": {},
   "outputs": [],
   "source": [
    "with open('./fpt_hash_list.json', 'w')as f:\n",
    "    f.write(json.dumps(acg_FptD))"
   ]
  },
  {
   "cell_type": "markdown",
   "metadata": {},
   "source": [
    "# 对比大成功，那么来生成二进制吧"
   ]
  },
  {
   "cell_type": "code",
   "execution_count": 4,
   "metadata": {},
   "outputs": [
    {
     "ename": "NameError",
     "evalue": "name 'myAll' is not defined",
     "output_type": "error",
     "traceback": [
      "\u001b[0;31m---------------------------------------------------------------------------\u001b[0m",
      "\u001b[0;31mNameError\u001b[0m                                 Traceback (most recent call last)",
      "Cell \u001b[0;32mIn[4], line 3\u001b[0m\n\u001b[1;32m      1\u001b[0m \u001b[38;5;28;01mwith\u001b[39;00m \u001b[38;5;28mopen\u001b[39m(\u001b[38;5;124m'\u001b[39m\u001b[38;5;124m./fpt_hash_list.json\u001b[39m\u001b[38;5;124m'\u001b[39m, \u001b[38;5;124m'\u001b[39m\u001b[38;5;124mr\u001b[39m\u001b[38;5;124m'\u001b[39m)\u001b[38;5;28;01mas\u001b[39;00m f:\n\u001b[1;32m      2\u001b[0m     fpt_hash_list \u001b[38;5;241m=\u001b[39m json\u001b[38;5;241m.\u001b[39mloads(f\u001b[38;5;241m.\u001b[39mread())\n\u001b[0;32m----> 3\u001b[0m acgAllD \u001b[38;5;241m=\u001b[39m txt2dict(\u001b[43mmyAll\u001b[49m)\n\u001b[1;32m      4\u001b[0m fptD \u001b[38;5;241m=\u001b[39m {}\n\u001b[1;32m      5\u001b[0m b_fpt_dict \u001b[38;5;241m=\u001b[39m {}\n",
      "\u001b[0;31mNameError\u001b[0m: name 'myAll' is not defined"
     ]
    }
   ],
   "source": [
    "with open('./fpt_hash_list.json', 'r')as f:\n",
    "    fpt_hash_list = json.loads(f.read())\n",
    "acgAllD = txt2dict(myAll)\n",
    "fptD = {}\n",
    "b_fpt_dict = {}\n",
    "for fptName, txt_hash_dict in fpt_hash_list.items():\n",
    "    b_fptHead = struct.pack('4s4xII', b'FPT0', len(txt_hash_dict), 1) #magic, count, version\n",
    "    b_fpt_index = b''\n",
    "    b_fpt_data = b''\n",
    "    for txtName, txt_hash in txt_hash_dict.items():\n",
    "        b_txt_hash = bytes.fromhex(txt_hash)\n",
    "        if fptName not in fptD.keys():\n",
    "            fptD[fptName]={}\n",
    "        if fptName in ('#100000.fpt', '#140000.fpt', '#190000.fpt', '#210000.fpt', '#420000.fpt', '#510000.fpt', '#520000.fpt', '#540000.fpt', '#550000.fpt', '#560000.fpt', '#610000.fpt', '#800000.fpt'):\n",
    "            try:\n",
    "                msg = acgAllD['#'+txtName]\n",
    "                #print(fptName)\n",
    "            except KeyError:\n",
    "                msg = acgAllD[txtName]\n",
    "        else:\n",
    "            msg = acgAllD[txtName]\n",
    "        b_msg = msg.encode('utf-8')\n",
    "        b_txtName = txtName.encode('ascii').ljust(0x10, b'\\x00')\n",
    "        b_entry = struct.pack('16s4sII4x', b_txtName, b_txt_hash, len(b_fpt_data), len(b_msg))\n",
    "        b_fpt_data += b_msg\n",
    "        b_fpt_index += b_entry\n",
    "        fptD[fptName][txtName]=(msg, b_txt_hash) \n",
    "    b_fpt = b_fptHead + b_fpt_index + STD_unkR + b_fpt_data\n",
    "    b_fpt_dict[fptName] = b_fpt"
   ]
  },
  {
   "cell_type": "markdown",
   "metadata": {},
   "source": [
    "# 测试一下二进制和源文件是否一致"
   ]
  },
  {
   "cell_type": "code",
   "execution_count": 8,
   "metadata": {},
   "outputs": [],
   "source": [
    "fix_msgDir = '/home/chasedream1129/.local/share/citra-emu/load/mods/0004000000065E00/romfs/MESS/'\n"
   ]
  },
  {
   "cell_type": "code",
   "execution_count": 65,
   "metadata": {},
   "outputs": [],
   "source": [
    "for fptName, fpt_bytes in b_fpt_dict.items():\n",
    "    with open(os.path.join(acg_msgDir, fptName), 'rb')as f:\n",
    "        raw_fpt = f.read()\n",
    "    if raw_fpt != fpt_bytes:\n",
    "        print(fptName)\n",
    "    with open(os.path.join(fix_msgDir, fptName), 'wb')as f:\n",
    "        f.write(fpt_bytes)"
   ]
  },
  {
   "cell_type": "markdown",
   "metadata": {},
   "source": [
    "# 用修改后的all.txt生成二进制"
   ]
  },
  {
   "cell_type": "code",
   "execution_count": 6,
   "metadata": {},
   "outputs": [],
   "source": [
    "def charReplace(text):\n",
    "    charReplaceDict = {\n",
    "    '駁':'潇',\n",
    "    '駅':'阁',\n",
    "    '駈':'飓',\n",
    "    '駐':'摊',\n",
    "    '駑':'咦',\n",
    "    '駒':'噢',\n",
    "    '駕':'贱',\n",
    "    '駘':'锦',\n",
    "    '駛':'鲤',\n",
    "    '駝':'蝾',\n",
    "    '駟':'螈',\n",
    "    '駢':'饥',\n",
    "    '駭':'魇'}\n",
    "    for old, new in charReplaceDict.items():\n",
    "        text = text.replace(new, old)\n",
    "    return text"
   ]
  },
  {
   "cell_type": "code",
   "execution_count": 7,
   "metadata": {
    "slideshow": {
     "slide_type": "slide"
    }
   },
   "outputs": [],
   "source": [
    "with open('./fpt_hash_list.json', 'r')as f:\n",
    "    fpt_hash_list = json.loads(f.read())\n",
    "with open(\"/home/chasedream1129/Project/chasedream1129/dq7crt_CHS_dev/git/text/CHS/all.txt\", 'r', newline='\\r\\n')as f:\n",
    "    fixed_myAll = f.read()\n",
    "allD = txt2dict(fixed_myAll)\n",
    "fptD = {}\n",
    "b_fpt_dict = {}\n",
    "for fptName, txt_hash_dict in fpt_hash_list.items():\n",
    "    b_fptHead = struct.pack('4s4xII', b'FPT0', len(txt_hash_dict), 1) #magic, count, version\n",
    "    b_fpt_index = b''\n",
    "    b_fpt_data = b''\n",
    "    for txtName, txt_hash in txt_hash_dict.items():\n",
    "        b_txt_hash = bytes.fromhex(txt_hash)\n",
    "        if fptName not in fptD.keys():\n",
    "            fptD[fptName]={}\n",
    "        if fptName in ('#100000.fpt', '#140000.fpt', '#190000.fpt', '#210000.fpt', '#420000.fpt', '#510000.fpt', '#520000.fpt', '#540000.fpt', '#550000.fpt', '#560000.fpt', '#610000.fpt', '#800000.fpt'):\n",
    "            try:\n",
    "                msg = allD['#'+txtName]\n",
    "                #print(fptName)\n",
    "            except KeyError:\n",
    "                msg = allD[txtName]\n",
    "        else:\n",
    "            msg = allD[txtName]\n",
    "        #msg = msg.replace('今天来这里的事', '咦噢摆摊潇洒地贱卖了飓风阁下房间的锦鲤')\n",
    "        msg = charReplace(msg) # 临时替换字符来粗暴解决\n",
    "        b_msg = msg.encode('utf-8')\n",
    "        b_txtName = txtName.encode('ascii').ljust(0x10, b'\\x00')\n",
    "        b_entry = struct.pack('16s4sII4x', b_txtName, b_txt_hash, len(b_fpt_data), len(b_msg))\n",
    "        b_fpt_data += b_msg\n",
    "        b_fpt_index += b_entry\n",
    "        fptD[fptName][txtName]=(msg, b_txt_hash) \n",
    "    b_fpt = b_fptHead + b_fpt_index + STD_unkR + b_fpt_data\n",
    "    b_fpt_dict[fptName] = b_fpt"
   ]
  },
  {
   "cell_type": "code",
   "execution_count": 9,
   "metadata": {},
   "outputs": [],
   "source": [
    "for fptName, fpt_bytes in b_fpt_dict.items():\n",
    "    #with open(os.path.join(acg_msgDir, fptName), 'rb')as f:\n",
    "    #    raw_fpt = f.read()\n",
    "    #if raw_fpt == fpt_bytes:\n",
    "    #    print(fptName)\n",
    "    with open(os.path.join(fix_msgDir, fptName), 'wb')as f:\n",
    "        f.write(fpt_bytes)"
   ]
  },
  {
   "cell_type": "markdown",
   "metadata": {},
   "source": [
    "# 差异行数检查相关"
   ]
  },
  {
   "cell_type": "code",
   "execution_count": 10,
   "metadata": {},
   "outputs": [],
   "source": [
    "chsAllD = allD"
   ]
  },
  {
   "cell_type": "code",
   "execution_count": 11,
   "metadata": {},
   "outputs": [],
   "source": [
    "import difflib"
   ]
  },
  {
   "cell_type": "code",
   "execution_count": 12,
   "metadata": {},
   "outputs": [
    {
     "ename": "NameError",
     "evalue": "name 'acgAllD' is not defined",
     "output_type": "error",
     "traceback": [
      "\u001b[0;31m---------------------------------------------------------------------------\u001b[0m",
      "\u001b[0;31mNameError\u001b[0m                                 Traceback (most recent call last)",
      "Cell \u001b[0;32mIn[12], line 5\u001b[0m\n\u001b[1;32m      3\u001b[0m rc \u001b[38;5;241m=\u001b[39m \u001b[38;5;241m0\u001b[39m\n\u001b[1;32m      4\u001b[0m \u001b[38;5;28;01mfor\u001b[39;00m k, v \u001b[38;5;129;01min\u001b[39;00m chsAllD\u001b[38;5;241m.\u001b[39mitems():\n\u001b[0;32m----> 5\u001b[0m     \u001b[38;5;28;01mif\u001b[39;00m \u001b[43macgAllD\u001b[49m[k] \u001b[38;5;241m!=\u001b[39m v:\n\u001b[1;32m      6\u001b[0m         c \u001b[38;5;241m+\u001b[39m\u001b[38;5;241m=\u001b[39m \u001b[38;5;241m1\u001b[39m\n\u001b[1;32m      7\u001b[0m         differ \u001b[38;5;241m=\u001b[39m difflib\u001b[38;5;241m.\u001b[39mDiffer()\n",
      "\u001b[0;31mNameError\u001b[0m: name 'acgAllD' is not defined"
     ]
    }
   ],
   "source": [
    "c = 0\n",
    "ac = 0\n",
    "rc = 0\n",
    "for k, v in chsAllD.items():\n",
    "    if acgAllD[k] != v:\n",
    "        c += 1\n",
    "        differ = difflib.Differ()\n",
    "        diff = list(differ.compare(acgAllD[k].split('\\r\\n'), v.split('\\r\\n')))\n",
    "        added_lines = [line for line in diff if line.startswith('+ ')]\n",
    "        ac += len(added_lines)\n",
    "        removed_lines = [line for line in diff if line.startswith('- ')]\n",
    "        rc += len(removed_lines)\n",
    "        if len(added_lines) != len(removed_lines):\n",
    "            #print(k, '\\n'.join(diff))\n",
    "            print(k)\n",
    "\n",
    "print(c, '段')\n",
    "print(ac, rc, '行')"
   ]
  },
  {
   "cell_type": "code",
   "execution_count": 1,
   "metadata": {},
   "outputs": [
    {
     "ename": "NameError",
     "evalue": "name 'chsAllD' is not defined",
     "output_type": "error",
     "traceback": [
      "\u001b[0;31m---------------------------------------------------------------------------\u001b[0m",
      "\u001b[0;31mNameError\u001b[0m                                 Traceback (most recent call last)",
      "Cell \u001b[0;32mIn[1], line 1\u001b[0m\n\u001b[0;32m----> 1\u001b[0m \u001b[38;5;28;01mfor\u001b[39;00m k, v \u001b[38;5;129;01min\u001b[39;00m \u001b[43mchsAllD\u001b[49m\u001b[38;5;241m.\u001b[39mitems():\n\u001b[1;32m      2\u001b[0m     \u001b[38;5;28;01mif\u001b[39;00m \u001b[38;5;28mlen\u001b[39m(v\u001b[38;5;241m.\u001b[39msplit(\u001b[38;5;124m'\u001b[39m\u001b[38;5;130;01m\\r\u001b[39;00m\u001b[38;5;130;01m\\n\u001b[39;00m\u001b[38;5;124m'\u001b[39m)) \u001b[38;5;241m!=\u001b[39m \u001b[38;5;241m5\u001b[39m:\n\u001b[1;32m      3\u001b[0m         \u001b[38;5;28mprint\u001b[39m(k)\n",
      "\u001b[0;31mNameError\u001b[0m: name 'chsAllD' is not defined"
     ]
    }
   ],
   "source": [
    "for k, v in chsAllD.items():\n",
    "    if len(v.split('\\r\\n')) != 5:\n",
    "        print(k)"
   ]
  },
  {
   "cell_type": "code",
   "execution_count": 103,
   "metadata": {},
   "outputs": [
    {
     "data": {
      "text/plain": [
       "['#9999', '残念ですが\\u3000制限時間となりました。', 'つづきは\\u3000ぜひ\\u3000発売後に', 'お楽しみください。', '']"
      ]
     },
     "execution_count": 103,
     "metadata": {},
     "output_type": "execute_result"
    }
   ],
   "source": [
    "v.split('\\r\\n')"
   ]
  }
 ],
 "metadata": {
  "kernelspec": {
   "display_name": "env-39",
   "language": "python",
   "name": "python3"
  },
  "language_info": {
   "codemirror_mode": {
    "name": "ipython",
    "version": 3
   },
   "file_extension": ".py",
   "mimetype": "text/x-python",
   "name": "python",
   "nbconvert_exporter": "python",
   "pygments_lexer": "ipython3",
   "version": "3.9.9"
  }
 },
 "nbformat": 4,
 "nbformat_minor": 2
}
